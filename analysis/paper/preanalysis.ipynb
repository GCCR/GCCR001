{
 "cells": [
  {
   "cell_type": "code",
   "execution_count": 1,
   "metadata": {},
   "outputs": [],
   "source": [
    "# Contributors:\n",
    "# Richard C. (Rick) Gerkin converted the RMarkdown file used in the manuscript to a Python version\n",
    "# See the original RMarkdown file for details on the original design and implementation of the analyses in R"
   ]
  },
  {
   "cell_type": "code",
   "execution_count": 2,
   "metadata": {},
   "outputs": [],
   "source": [
    "# Imports\n",
    "import matplotlib.pyplot as plt\n",
    "import pandas as pd\n",
    "import seaborn as sns\n",
    "from sklearn.cluster import KMeans\n",
    "from sklearn.decomposition import PCA\n",
    "sns.set(font_scale=1.5)\n",
    "pd.set_option('mode.chained_assignment', None)  # Ignore SettingOnCopy warning"
   ]
  },
  {
   "cell_type": "markdown",
   "metadata": {},
   "source": [
    "# Data loading and cleaning"
   ]
  },
  {
   "cell_type": "code",
   "execution_count": 3,
   "metadata": {},
   "outputs": [],
   "source": [
    "# Database pulled on April 18th 8:34AM ET by Alyssa Joy Bakke, Penn State University\n",
    "# Accessed on April 19th 4:00AM ET by Valentina Parma for first check\n",
    "d = pd.read_csv('../data/raw_data/Covid_Results_GCCR001.csv')\n",
    "n_initial = d.shape[0]"
   ]
  },
  {
   "cell_type": "code",
   "execution_count": 4,
   "metadata": {},
   "outputs": [],
   "source": [
    "# Add ID column\n",
    "d['ID'] = range(d.shape[0])"
   ]
  },
  {
   "cell_type": "code",
   "execution_count": 5,
   "metadata": {},
   "outputs": [],
   "source": [
    "# Include only the relevant variables for the pre-registered GCCR001 analysis, posted at https://osf.io/auhs8/\n",
    "# PYTHON CHANGE: removed 'ID' from this list as it does not exist yet.\n",
    "keeps = [\"Year_of_birth\", \"Country_of_Residence\", \"Gender\", \"Combustible_cigarette_use_no\", \"E-cigarette_use_no\", \"Symptoms_changes_in_smell\",\n",
    "         \"COVID_diagnosis\", \"Smell_before_illness\", \"Smell_during_illness\",\n",
    "         \"Changes_in_smell_i_cannot_smell_at_all_/_smells_smell_less_strong_than_they_did_before\",\n",
    "         \"Changes_in_smell_smells_smell_different_than_they_did_before_(the_quality_of_smell_has_changed)\",\n",
    "         \"Changes_in_smell_i_can_smell_things_that_aren't_there_(for_example_i_smell_burning_when_nothing_is_on_fire)\",\n",
    "         \"Changes_in_smell_sense_of_smell_fluctuates_(comes_and_goes)\", \"Blocked_nose_before_illness\", \"Blocked_nose_during_illness\",\n",
    "         \"Taste_before_illness\", \"Taste_during_illness\", \"Changes_in_basic_tastes_sweet\", \"Changes_in_basic_tastes_salty\",\n",
    "         \"Changes_in_basic_tastes_sour\", \"Changes_in_basic_tastes_bitter\", \"Changes_in_basic_tastes_savory/umami\", \"Chemethesis_before_illness\",\n",
    "         \"Chemesthesis_during_illness\", \"ID\"]\n",
    "\n",
    "d = d[keeps]"
   ]
  },
  {
   "cell_type": "code",
   "execution_count": 6,
   "metadata": {},
   "outputs": [],
   "source": [
    "# Exclusion criteria. Missing values on smell, taste, chemesthesis ratings before and during\n",
    "d = d[d['Smell_before_illness'].notnull() & \n",
    "      d['Smell_during_illness'].notnull() & \n",
    "      d['Taste_before_illness'].notnull() & \n",
    "      d['Taste_during_illness'].notnull() & \n",
    "      d['Chemethesis_before_illness'].notnull() & \n",
    "      d['Chemesthesis_during_illness'].notnull() & \n",
    "      d['Blocked_nose_before_illness'].notnull() &\n",
    "      d['Blocked_nose_during_illness'].notnull()]\n",
    "\n",
    "n_nomiss = d.shape[0]"
   ]
  },
  {
   "cell_type": "code",
   "execution_count": 7,
   "metadata": {},
   "outputs": [],
   "source": [
    "# Create the change score\n",
    "d['Smell_change'] = d['Smell_during_illness'] - d['Smell_before_illness']\n",
    "d['Taste_change'] = d['Taste_during_illness'] - d['Taste_before_illness']\n",
    "d['Chemesthesis_change'] = d['Chemesthesis_during_illness'] - d['Chemethesis_before_illness']\n",
    "d['Nasal_occlusion_change'] = d['Blocked_nose_during_illness'] - d['Blocked_nose_before_illness']"
   ]
  },
  {
   "cell_type": "code",
   "execution_count": 8,
   "metadata": {},
   "outputs": [],
   "source": [
    "# Simplify the visualization of variables\n",
    "d['smell_loss'] = d['Changes_in_smell_i_cannot_smell_at_all_/_smells_smell_less_strong_than_they_did_before']\n",
    "d['parosmia'] = d['Changes_in_smell_smells_smell_different_than_they_did_before_(the_quality_of_smell_has_changed)']\n",
    "d['phantosmia'] = d[\"Changes_in_smell_i_can_smell_things_that_aren't_there_(for_example_i_smell_burning_when_nothing_is_on_fire)\"]\n",
    "d['smell_fluctuations'] = d['Changes_in_smell_sense_of_smell_fluctuates_(comes_and_goes)']"
   ]
  },
  {
   "cell_type": "code",
   "execution_count": 9,
   "metadata": {},
   "outputs": [],
   "source": [
    "# Create a new summary sanity check variable\n",
    "d['Gender'] = d['Gender'].replace({0: \"Female\",\n",
    "                                   1: \"Male\",\n",
    "                                   2: \"Other\",\n",
    "                                   3: \"Prefer not to say\"})\n",
    "\n",
    "d['Sanity_check'] = (((d['Symptoms_changes_in_smell'] == 1) & (d['Smell_change'] >= 5)) |\n",
    "                     ((d['Symptoms_changes_in_smell'] == 1) & (d['Smell_change'] <= 5)) |\n",
    "                     ((d['Symptoms_changes_in_smell'] == 1) & (d['smell_loss'] == 1)) |\n",
    "                     ((d['Symptoms_changes_in_smell'] == 1) & (d['parosmia'] == 1)) |\n",
    "                     ((d['Symptoms_changes_in_smell'] == 1) & (d['phantosmia'] == 1)) |\n",
    "                     ((d['Symptoms_changes_in_smell'] == 1) & (d['smell_fluctuations'] == 1))).astype(int)         "
   ]
  },
  {
   "cell_type": "code",
   "execution_count": 10,
   "metadata": {},
   "outputs": [],
   "source": [
    "# Create COVID-19 diagnostic groups\n",
    "# COVID_diagnosis = 1 clinical examination\n",
    "# COVID_diagnosis = 2 & 3 Lab tested\n",
    "d['Group'] = d['COVID_diagnosis'].clip(1, 4).replace({1: \"Clinical exam\",\n",
    "                                                      2: \"Lab test\",\n",
    "                                                      3: \"Lab test\",\n",
    "                                                      4: \"Remove\"})"
   ]
  },
  {
   "cell_type": "code",
   "execution_count": 11,
   "metadata": {},
   "outputs": [],
   "source": [
    "d['Age'] = 2020 - d['Year_of_birth']\n",
    "d = d[d['Age'] < 119]"
   ]
  },
  {
   "cell_type": "code",
   "execution_count": 12,
   "metadata": {},
   "outputs": [],
   "source": [
    "keeps2 = [\"Age\", \"Country_of_Residence\", \"Gender\", \"Combustible_cigarette_use_no\", \"E-cigarette_use_no\", \"COVID_diagnosis\", \"Smell_change\",\n",
    "          \"Taste_change\", \"Chemesthesis_change\", \"Nasal_occlusion_change\", \"smell_loss\", \"parosmia\", \"phantosmia\", \"smell_fluctuations\",\n",
    "          \"Changes_in_basic_tastes_sweet\", \"Changes_in_basic_tastes_salty\", \"Changes_in_basic_tastes_sour\", \"Changes_in_basic_tastes_bitter\",\n",
    "          \"Changes_in_basic_tastes_savory/umami\", \"Sanity_check\", \"Group\", \"Smell_before_illness\", \"Smell_during_illness\",\n",
    "          \"Blocked_nose_before_illness\", \"Blocked_nose_during_illness\", \"Taste_before_illness\", \"Taste_during_illness\",\n",
    "          \"Chemethesis_before_illness\", \"Chemesthesis_during_illness\"]\n",
    "d = d[keeps2]\n",
    "d = d.rename(columns={\"Chemethesis_before_illness\": \"Chemesthesis_before_illness\"})\n",
    "d = d[d['Country_of_Residence'] != \"TEST\"]\n",
    "n_testremove = d.shape[0]"
   ]
  },
  {
   "cell_type": "code",
   "execution_count": 13,
   "metadata": {},
   "outputs": [],
   "source": [
    "# Create final database COVID-19 only\n",
    "d = d[(d['Group'] == \"Lab test\") | (d['Group'] == \"Clinical exam\")]"
   ]
  },
  {
   "cell_type": "code",
   "execution_count": 14,
   "metadata": {},
   "outputs": [],
   "source": [
    "d = d.join(pd.get_dummies(d['Gender']))\n",
    "d = d.join(pd.get_dummies(d['Group']))\n",
    "d = d.dropna()\n",
    "n_final = d.shape[0]"
   ]
  },
  {
   "cell_type": "code",
   "execution_count": 15,
   "metadata": {},
   "outputs": [],
   "source": [
    "d_clin = d[d['Group']==\"Clinical exam\"]\n",
    "d_test = d[d['Group']==\"Lab test\"]\n",
    "n_clin = d_clin.shape[0]\n",
    "n_test = d_test.shape[0]"
   ]
  },
  {
   "cell_type": "markdown",
   "metadata": {},
   "source": [
    "# Figure 2"
   ]
  },
  {
   "cell_type": "code",
   "execution_count": 16,
   "metadata": {},
   "outputs": [
    {
     "data": {
      "text/html": [
       "<div>\n",
       "<style scoped>\n",
       "    .dataframe tbody tr th:only-of-type {\n",
       "        vertical-align: middle;\n",
       "    }\n",
       "\n",
       "    .dataframe tbody tr th {\n",
       "        vertical-align: top;\n",
       "    }\n",
       "\n",
       "    .dataframe thead th {\n",
       "        text-align: right;\n",
       "    }\n",
       "</style>\n",
       "<table border=\"1\" class=\"dataframe\">\n",
       "  <thead>\n",
       "    <tr style=\"text-align: right;\">\n",
       "      <th></th>\n",
       "      <th>Sample Size (n)</th>\n",
       "    </tr>\n",
       "  </thead>\n",
       "  <tbody>\n",
       "    <tr>\n",
       "      <th>Raw Data</th>\n",
       "      <td>19035</td>\n",
       "    </tr>\n",
       "    <tr>\n",
       "      <th>Remove Incomplete Data</th>\n",
       "      <td>8269</td>\n",
       "    </tr>\n",
       "    <tr>\n",
       "      <th>Remove Mystyped Reponses</th>\n",
       "      <td>8267</td>\n",
       "    </tr>\n",
       "    <tr>\n",
       "      <th>Final sample</th>\n",
       "      <td>3856</td>\n",
       "    </tr>\n",
       "    <tr>\n",
       "      <th>COVID-19 Clinical Exam Sample</th>\n",
       "      <td>2539</td>\n",
       "    </tr>\n",
       "    <tr>\n",
       "      <th>COVID-19 Lab Test Sample</th>\n",
       "      <td>1317</td>\n",
       "    </tr>\n",
       "  </tbody>\n",
       "</table>\n",
       "</div>"
      ],
      "text/plain": [
       "                               Sample Size (n)\n",
       "Raw Data                                 19035\n",
       "Remove Incomplete Data                    8269\n",
       "Remove Mystyped Reponses                  8267\n",
       "Final sample                              3856\n",
       "COVID-19 Clinical Exam Sample             2539\n",
       "COVID-19 Lab Test Sample                  1317"
      ]
     },
     "execution_count": 16,
     "metadata": {},
     "output_type": "execute_result"
    }
   ],
   "source": [
    "s = pd.Series(index=['Raw Data', 'Remove Incomplete Data', 'Remove Mystyped Reponses',\n",
    "                     'Final sample', 'COVID-19 Clinical Exam Sample', 'COVID-19 Lab Test Sample'],\n",
    "              name = 'Sample Size (n)',\n",
    "              data = [n_initial, n_nomiss, n_testremove, n_final, n_clin, n_test])\n",
    "s.to_frame()"
   ]
  }
 ],
 "metadata": {
  "kernelspec": {
   "display_name": "Python 3",
   "language": "python",
   "name": "python3"
  },
  "language_info": {
   "codemirror_mode": {
    "name": "ipython",
    "version": 3
   },
   "file_extension": ".py",
   "mimetype": "text/x-python",
   "name": "python",
   "nbconvert_exporter": "python",
   "pygments_lexer": "ipython3",
   "version": "3.7.6"
  }
 },
 "nbformat": 4,
 "nbformat_minor": 4
}
